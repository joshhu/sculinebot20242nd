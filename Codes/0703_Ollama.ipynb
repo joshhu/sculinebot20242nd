{
 "cells": [
  {
   "cell_type": "code",
   "execution_count": null,
   "metadata": {},
   "outputs": [],
   "source": [
    "from openai import OpenAI\n",
    "\n",
    "client = OpenAI(\n",
    "    base_url='http://120.105.97.88:11434/v1/',\n",
    "\n",
    "    # required but ignored\n",
    "    api_key='ollama',\n",
    ")\n",
    "\n",
    "chat_completion = client.chat.completions.create(\n",
    "    messages=[\n",
    "        {\n",
    "            'role': 'system',\n",
    "            'content': '你是一個說繁體中文的助理，只會用台灣用語，不會用中國用語，不會使用簡體中文',\n",
    "            'role': 'user',\n",
    "            'content': '介紹一下東吳大學資科系',\n",
    "\n",
    "        }\n",
    "    ],\n",
    "    model='jcai/llama3-taide-lx-8b-chat-alpha1:f16',\n",
    "    # model='llama3',\n",
    ")\n",
    "print(chat_completion.choices[0].message.content)"
   ]
  }
 ],
 "metadata": {
  "kernelspec": {
   "display_name": "linebot",
   "language": "python",
   "name": "python3"
  },
  "language_info": {
   "codemirror_mode": {
    "name": "ipython",
    "version": 3
   },
   "file_extension": ".py",
   "mimetype": "text/x-python",
   "name": "python",
   "nbconvert_exporter": "python",
   "pygments_lexer": "ipython3",
   "version": "3.12.7"
  }
 },
 "nbformat": 4,
 "nbformat_minor": 2
}
