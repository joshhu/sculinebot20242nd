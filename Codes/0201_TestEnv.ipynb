{
 "cells": [
  {
   "cell_type": "code",
   "execution_count": 1,
   "metadata": {},
   "outputs": [
    {
     "name": "stdout",
     "output_type": "stream",
     "text": [
      "Current OS: win32\n",
      "Current Conda environment name: linebot\n",
      "flask version: 3.0.3\n",
      "pyngrok version: 7.1.6\n",
      "requests version: 2.31.0\n",
      "openai version: 1.30.1\n",
      "linebot version: 3.11.0\n"
     ]
    }
   ],
   "source": [
    "import os\n",
    "import importlib\n",
    "import linebot\n",
    "import sys\n",
    "\n",
    "def get_conda_env_name():\n",
    "    conda_env = os.environ.get('CONDA_DEFAULT_ENV')\n",
    "    if conda_env:\n",
    "        return conda_env\n",
    "    else:\n",
    "        return \"Not in a Conda environment\"\n",
    "\n",
    "\n",
    "env_name = get_conda_env_name()\n",
    "print(\"Current OS:\", sys.platform)\n",
    "print(\"Current Conda environment name:\", env_name)\n",
    "print(\"flask version:\", importlib.metadata.version(\"flask\"))\n",
    "print(\"pyngrok version:\", importlib.metadata.version(\"pyngrok\"))\n",
    "print(\"requests version:\", importlib.metadata.version(\"requests\"))\n",
    "print(\"openai version:\", importlib.metadata.version(\"openai\"))\n",
    "print(\"linebot version:\", linebot.__version__)"
   ]
  }
 ],
 "metadata": {
  "kernelspec": {
   "display_name": "linebot",
   "language": "python",
   "name": "python3"
  },
  "language_info": {
   "codemirror_mode": {
    "name": "ipython",
    "version": 3
   },
   "file_extension": ".py",
   "mimetype": "text/x-python",
   "name": "python",
   "nbconvert_exporter": "python",
   "pygments_lexer": "ipython3",
   "version": "3.12.3"
  }
 },
 "nbformat": 4,
 "nbformat_minor": 2
}
