{
 "cells": [
  {
   "cell_type": "code",
   "execution_count": null,
   "metadata": {},
   "outputs": [],
   "source": [
    "# from google.colab import userdata\n",
    "\n",
    "# ngrok_key = userdata.get('ngrok_key')\n",
    "# line_access_token = userdata.get('line_access_token')\n",
    "# line_secret = userdata.get('line_secret')\n",
    "# port = 5000"
   ]
  },
  {
   "cell_type": "code",
   "execution_count": 1,
   "metadata": {},
   "outputs": [],
   "source": [
    "import os\n",
    "\n",
    "line_channel_access_token = os.environ.get('LINE_CHANNEL_ACCESS_TOKEN')\n",
    "line_channel_secret = os.environ.get('LINE_CHANNEL_SECRET')\n",
    "open_api_key = os.environ.get('OPENAI_API_KEY')\n",
    "port = 5000"
   ]
  },
  {
   "cell_type": "code",
   "execution_count": 2,
   "metadata": {},
   "outputs": [],
   "source": [
    "from openai import OpenAI\n",
    "\n",
    "client = OpenAI(api_key=open_api_key)\n",
    "def get_completion(prompt):\n",
    "    messages = [{\"role\": \"system\", \"content\": \"以下用繁體中文台灣用語回答\"}, \n",
    "                {\"role\": \"user\", \"content\": prompt}]\n",
    "    response = client.chat.completions.create(\n",
    "        model=\"gpt-4o-2024-11-20\",\n",
    "        messages=messages,\n",
    "        temperature=0,\n",
    "        max_tokens=256\n",
    "        \n",
    "    )\n",
    "    return response.choices[0].message.content"
   ]
  },
  {
   "cell_type": "code",
   "execution_count": 3,
   "metadata": {},
   "outputs": [
    {
     "name": "stdout",
     "output_type": "stream",
     "text": [
      "東吳大學（Soochow University）是台灣一所歷史悠久且具有深厚人文底蘊的私立大學，創立於1900年，最早設立於中國蘇州，為中國第一所西式大學。1951年，東吳大學在台灣復校，校本部位於台北市士林區，另有城中校區位於台北市中正區。\n",
      "\n",
      "東吳大學以「養天地正氣，法古今完人」為校訓，重視全人教育，致力於培養學生的專業能力與人文素養。該校以法學院、商學院、文學院、理學院、外語學院、社會科學院及音樂學院等七大學院聞名，特別是法學院與商學院在台灣享有極高的聲譽。\n",
      "\n",
      "東吳大學以小而精的教學模式著稱，師生比例適中，提供學生良好的學習環境與資源。此外，學校也積極推動\n"
     ]
    }
   ],
   "source": [
    "result = get_completion(\"簡介東吳大學\")\n",
    "print(result)"
   ]
  },
  {
   "cell_type": "code",
   "execution_count": 4,
   "metadata": {},
   "outputs": [
    {
     "name": "stdout",
     "output_type": "stream",
     "text": [
      " * Serving Flask app '__main__'\n",
      " * Debug mode: off\n"
     ]
    },
    {
     "name": "stderr",
     "output_type": "stream",
     "text": [
      "WARNING: This is a development server. Do not use it in a production deployment. Use a production WSGI server instead.\n",
      " * Running on http://127.0.0.1:5000\n",
      "Press CTRL+C to quit\n",
      "127.0.0.1 - - [09/Dec/2024 15:52:04] \"POST / HTTP/1.1\" 200 -\n"
     ]
    },
    {
     "name": "stdout",
     "output_type": "stream",
     "text": [
      "BODY:  {\"destination\":\"U08e238379070624ecd3a6ba91e449e19\",\"events\":[]}\n",
      "BODY:  {\"destination\":\"U08e238379070624ecd3a6ba91e449e19\",\"events\":[{\"type\":\"message\",\"message\":{\"type\":\"text\",\"id\":\"538379903663080146\",\"quoteToken\":\"DRkNTYQn_olxgR9DLwzhQ-_LELs4F9wyksyTPkLg7kIjWW1iklf5fw3qWL6I8Zh6qEab39qsYEmSuNJAg--KVeWgJvIfngg-6JJQ1TWVd3f1vmnUlmSilypqqu6i3aErZ7jzPSjQl_G0NAiZ8xKEIg\",\"text\":\"你好\"},\"webhookEventId\":\"01JEN6F3ERQBW7JG3PCVZ112E7\",\"deliveryContext\":{\"isRedelivery\":false},\"timestamp\":1733730733141,\"source\":{\"type\":\"user\",\"userId\":\"Uc9d6d3d031222ca0e86cebfd151d295e\"},\"replyToken\":\"73fd36a5a1b4464a8099da35498d8259\",\"mode\":\"active\"}]}\n"
     ]
    },
    {
     "name": "stderr",
     "output_type": "stream",
     "text": [
      "127.0.0.1 - - [09/Dec/2024 15:52:13] \"POST / HTTP/1.1\" 200 -\n"
     ]
    },
    {
     "name": "stdout",
     "output_type": "stream",
     "text": [
      "BODY:  {\"destination\":\"U08e238379070624ecd3a6ba91e449e19\",\"events\":[{\"type\":\"message\",\"message\":{\"type\":\"text\",\"id\":\"538379916631867620\",\"quoteToken\":\"qfLIWp33h_bBF3caCx0kXNVJS0atTwriUZ0AbR6yyWvJAzopss9Y1NtvT9Ja_0gxnREdzmK82tfJLQZh8hoT8tqcgeIAual6Ys602GKcGy6P19dD7Q9yWPT9Wd7kw0-jktOMmRPu50sCCEWAtlCRdw\",\"text\":\"AI 你是誰？\"},\"webhookEventId\":\"01JEN6FB4CHNPVGNC9VW6E9FA2\",\"deliveryContext\":{\"isRedelivery\":false},\"timestamp\":1733730740952,\"source\":{\"type\":\"user\",\"userId\":\"Uc9d6d3d031222ca0e86cebfd151d295e\"},\"replyToken\":\"4d0ccd23e8ae4b9b908e4d55199b9510\",\"mode\":\"active\"}]}\n"
     ]
    },
    {
     "name": "stderr",
     "output_type": "stream",
     "text": [
      "127.0.0.1 - - [09/Dec/2024 15:52:21] \"POST / HTTP/1.1\" 200 -\n"
     ]
    },
    {
     "name": "stdout",
     "output_type": "stream",
     "text": [
      "BODY:  {\"destination\":\"U08e238379070624ecd3a6ba91e449e19\",\"events\":[{\"type\":\"message\",\"message\":{\"type\":\"text\",\"id\":\"538379933291381193\",\"quoteToken\":\"jErZnLBf93mp3_VBJ-MsLkE-9qg26Wr1IGHEVKaRSRgFia8JFu53vEMzRsLX6MkoUw6RNsh_xoT2e6LHfx80i7jZpqEXhN5TXm0ZRyQh6VI2YJRIZkDBbkKj1Gn-WIAsHgyPsPal-J_Klihgkz8fEg\",\"text\":\"AI 我是誰？\"},\"webhookEventId\":\"01JEN6FMSG7247NQZ7WMC13PT5\",\"deliveryContext\":{\"isRedelivery\":false},\"timestamp\":1733730750976,\"source\":{\"type\":\"user\",\"userId\":\"Uc9d6d3d031222ca0e86cebfd151d295e\"},\"replyToken\":\"a2a389d5edcd4043bbd6fb061b900219\",\"mode\":\"active\"}]}\n"
     ]
    },
    {
     "name": "stderr",
     "output_type": "stream",
     "text": [
      "127.0.0.1 - - [09/Dec/2024 15:52:31] \"POST / HTTP/1.1\" 200 -\n"
     ]
    },
    {
     "name": "stdout",
     "output_type": "stream",
     "text": [
      "BODY:  {\"destination\":\"U08e238379070624ecd3a6ba91e449e19\",\"events\":[{\"type\":\"message\",\"message\":{\"type\":\"text\",\"id\":\"538379953289822211\",\"quoteToken\":\"csp7KhAvOZicSIoo02eO7N6PaaQx65oEo_uWWoNxKRK4ibSYoKFE9l9-L3HGvdsEde7A0PDsZTT8a10yGkqcnVHLKPvDMDLLrfaROCCdNtmxphWQwUYCJoywj7l9aEzjhwwkIdG03dAse95_fZB-oA\",\"text\":\"AI 簡介東吳大學\"},\"webhookEventId\":\"01JEN6G0A3T8E270DVEX9VEKRA\",\"deliveryContext\":{\"isRedelivery\":false},\"timestamp\":1733730762848,\"source\":{\"type\":\"user\",\"userId\":\"Uc9d6d3d031222ca0e86cebfd151d295e\"},\"replyToken\":\"c9d736d53efa4219ababe8d8f6bfce7b\",\"mode\":\"active\"}]}\n"
     ]
    },
    {
     "name": "stderr",
     "output_type": "stream",
     "text": [
      "127.0.0.1 - - [09/Dec/2024 15:52:49] \"POST / HTTP/1.1\" 200 -\n"
     ]
    },
    {
     "name": "stdout",
     "output_type": "stream",
     "text": [
      "BODY:  {\"destination\":\"U08e238379070624ecd3a6ba91e449e19\",\"events\":[{\"type\":\"message\",\"message\":{\"type\":\"text\",\"id\":\"538380008923333123\",\"quoteToken\":\"wFt7dphDt-IeshvXx5miEbBUp1RObvj6w3LBra4qy2zo1CTVbGCVpGd0pn30FLR9wKTLCHbGAUPQxWFmZFNMgqRt_7nMQJF8Brsmmk8KFlDV7K5h9Oni32qXMYFqRh3MhCrjiCXbbDg9XwlvjLIeig\",\"text\":\"城區部地址？\"},\"webhookEventId\":\"01JEN6H0N9WTP3B8DX715RJMZF\",\"deliveryContext\":{\"isRedelivery\":false},\"timestamp\":1733730795915,\"source\":{\"type\":\"user\",\"userId\":\"Uc9d6d3d031222ca0e86cebfd151d295e\"},\"replyToken\":\"240ae1614f284bd5a1e4c5dab52930b8\",\"mode\":\"active\"}]}\n"
     ]
    },
    {
     "name": "stderr",
     "output_type": "stream",
     "text": [
      "127.0.0.1 - - [09/Dec/2024 15:53:16] \"POST / HTTP/1.1\" 200 -\n"
     ]
    },
    {
     "name": "stdout",
     "output_type": "stream",
     "text": [
      "BODY:  {\"destination\":\"U08e238379070624ecd3a6ba91e449e19\",\"events\":[{\"type\":\"message\",\"message\":{\"type\":\"text\",\"id\":\"538380020986151428\",\"quoteToken\":\"cXKPlVnSHY-6RZB9MRVsv_lKZiF4WTCFTYNI-Sk1vkfASvYytFCKX9oWF4ak6CSPvfKj0j0IgfRTmUvmPBKr9sVVAUNR4vcJe54KHcn0IM_90-Yh0abZuxnB1joZWjIZ8lcPiljduLLx1GVYs6AJkw\",\"text\":\"AI 城區部地址\"},\"webhookEventId\":\"01JEN6H7RQB0GC6GQPMGBXQG3C\",\"deliveryContext\":{\"isRedelivery\":false},\"timestamp\":1733730803094,\"source\":{\"type\":\"user\",\"userId\":\"Uc9d6d3d031222ca0e86cebfd151d295e\"},\"replyToken\":\"0ffd678064524018a2e0fc28be40b72b\",\"mode\":\"active\"}]}\n"
     ]
    },
    {
     "name": "stderr",
     "output_type": "stream",
     "text": [
      "127.0.0.1 - - [09/Dec/2024 15:53:24] \"POST / HTTP/1.1\" 200 -\n"
     ]
    }
   ],
   "source": [
    "from flask import Flask, request, abort\n",
    "\n",
    "from linebot.v3 import (\n",
    "    WebhookHandler\n",
    ")\n",
    "from linebot.v3.exceptions import (\n",
    "    InvalidSignatureError\n",
    ")\n",
    "from linebot.v3.messaging import (\n",
    "    Configuration,\n",
    "    ApiClient,\n",
    "    MessagingApi,\n",
    "    ReplyMessageRequest,\n",
    "    TextMessage,\n",
    "    StickerMessage,\n",
    "    LocationMessage\n",
    ")\n",
    "from linebot.v3.webhooks import (\n",
    "    MessageEvent,\n",
    "    TextMessageContent,\n",
    "    StickerMessageContent,\n",
    "    LocationMessageContent\n",
    ")\n",
    "\n",
    "app = Flask(__name__)\n",
    "\n",
    "configuration = Configuration(access_token=line_channel_access_token)\n",
    "handler = WebhookHandler(line_channel_secret)\n",
    "\n",
    "\n",
    "@app.route(\"/\", methods=['POST'])\n",
    "def callback():\n",
    "    # get X-Line-Signature header value\n",
    "    signature = request.headers['X-Line-Signature']\n",
    "\n",
    "    # get request body as text\n",
    "    body = request.get_data(as_text=True)\n",
    "    print(\"BODY: \", body)\n",
    "    app.logger.info(\"Request body: \" + body)\n",
    "\n",
    "    # handle webhook body\n",
    "    try:\n",
    "        handler.handle(body, signature)\n",
    "    except InvalidSignatureError:\n",
    "        app.logger.info(\"Invalid signature. Please check your channel access token/channel secret.\")\n",
    "        abort(400)\n",
    "\n",
    "    return 'OK'\n",
    "\n",
    "\n",
    "@handler.add(MessageEvent, message=TextMessageContent)\n",
    "def handle_message(event):\n",
    "    text = event.message.text\n",
    "    with ApiClient(configuration) as api_client:\n",
    "        line_bot_api = MessagingApi(api_client)\n",
    "        if text.startswith('AI '):\n",
    "            prompt = text[3:]\n",
    "            reply_text = get_completion(prompt)\n",
    "            line_bot_api.reply_message_with_http_info(\n",
    "                ReplyMessageRequest(\n",
    "                    reply_token=event.reply_token,\n",
    "                    messages=[TextMessage(text=reply_text)]\n",
    "                )\n",
    "            )            \n",
    "        else:\n",
    "            line_bot_api.reply_message_with_http_info(\n",
    "                ReplyMessageRequest(\n",
    "                    reply_token=event.reply_token,\n",
    "                    messages=[TextMessage(text=event.message.text),\n",
    "                        TextMessage(text=event.message.text)]\n",
    "                )\n",
    "            )\n",
    "\n",
    "        \n",
    "@handler.add(MessageEvent, message=StickerMessageContent)\n",
    "def handle_sticker_message(event):\n",
    "    with ApiClient(configuration) as api_client:\n",
    "        line_bot_api = MessagingApi(api_client)\n",
    "        line_bot_api.reply_message(\n",
    "            ReplyMessageRequest(\n",
    "                reply_token=event.reply_token,\n",
    "                messages=[StickerMessage(\n",
    "                    package_id=event.message.package_id,\n",
    "                    sticker_id=event.message.sticker_id)\n",
    "                ]\n",
    "            )\n",
    "        )\n",
    "\n",
    "@handler.add(MessageEvent, message=LocationMessageContent)\n",
    "def handle_location_message(event):\n",
    "    with ApiClient(configuration) as api_client:\n",
    "        line_bot_api = MessagingApi(api_client)\n",
    "        line_bot_api.reply_message(\n",
    "            ReplyMessageRequest(\n",
    "                reply_token=event.reply_token,\n",
    "                messages=[LocationMessage(\n",
    "                    title='定位訊息',\n",
    "                    address=event.message.address,\n",
    "                    latitude=event.message.latitude,\n",
    "                    longitude=event.message.longitude\n",
    "                )]\n",
    "            )\n",
    "        )\n",
    "\n",
    "if __name__ == \"__main__\":\n",
    "    app.run(port=port)"
   ]
  }
 ],
 "metadata": {
  "kernelspec": {
   "display_name": "linebot",
   "language": "python",
   "name": "python3"
  },
  "language_info": {
   "codemirror_mode": {
    "name": "ipython",
    "version": 3
   },
   "file_extension": ".py",
   "mimetype": "text/x-python",
   "name": "python",
   "nbconvert_exporter": "python",
   "pygments_lexer": "ipython3",
   "version": "3.12.7"
  }
 },
 "nbformat": 4,
 "nbformat_minor": 2
}
