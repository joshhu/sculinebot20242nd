{
 "cells": [
  {
   "cell_type": "code",
   "execution_count": null,
   "metadata": {
    "colab": {
     "base_uri": "https://localhost:8080/"
    },
    "id": "9Ahw4x5hMkN_",
    "outputId": "06188eac-6399-4eb8-851d-5f52a8eeed5f"
   },
   "outputs": [],
   "source": [
    "!pip install Flask pyngrok line-bot-sdk requests openai==1.55.3 --quiet"
   ]
  },
  {
   "cell_type": "code",
   "execution_count": null,
   "metadata": {
    "colab": {
     "base_uri": "https://localhost:8080/"
    },
    "id": "9ngnvFgWMlli",
    "outputId": "2937e7d2-6aa7-4c80-a300-24b392bc0765"
   },
   "outputs": [],
   "source": [
    "from google.colab import userdata\n",
    "\n",
    "ngrok_authtoken = userdata.get('NGROK_AUTHTOKEN')\n",
    "line_channel_access_token = userdata.get('LINE_CHANNEL_ACCESS_TOKEN')\n",
    "line_channel_secret = userdata.get('LINE_CHANNEL_SECRET')\n",
    "openai_api_key = userdata.get('OPENAI_API_KEY')\n",
    "port = 5051\n",
    "print(line_channel_access_token)\n",
    "print(\"====\")\n",
    "print(line_channel_secret)"
   ]
  },
  {
   "cell_type": "code",
   "execution_count": null,
   "metadata": {
    "id": "yQSj-lVgNMm3"
   },
   "outputs": [],
   "source": [
    "import os\n",
    "from pyngrok import ngrok"
   ]
  },
  {
   "cell_type": "code",
   "execution_count": null,
   "metadata": {},
   "outputs": [],
   "source": [
    "ngrok.kill()"
   ]
  },
  {
   "cell_type": "code",
   "execution_count": null,
   "metadata": {
    "colab": {
     "base_uri": "https://localhost:8080/"
    },
    "id": "bFF8Q-4QNP2m",
    "outputId": "dff25556-f74c-403d-d86a-d4b4e1584c0a"
   },
   "outputs": [],
   "source": [
    "ngrok.set_auth_token(ngrok_authtoken)\n",
    "tunnel = ngrok.connect(port, name=\"linebot_tunnel\")\n",
    "print(tunnel.public_url)"
   ]
  },
  {
   "cell_type": "code",
   "execution_count": null,
   "metadata": {
    "id": "wJY8NK_RMjEW"
   },
   "outputs": [],
   "source": [
    "from openai import OpenAI\n",
    "\n",
    "client = OpenAI(api_key=openai_api_key)\n",
    "def get_completion(prompt):\n",
    "    messages = [{\"role\": \"system\", \"content\": \"以下用繁體中文台灣用語回答\"},\n",
    "                {\"role\": \"user\", \"content\": prompt}]\n",
    "    response = client.chat.completions.create(\n",
    "        model=\"gpt-3.5-turbo\",\n",
    "        messages=messages,\n",
    "        temperature=0,\n",
    "        max_tokens=256\n",
    "\n",
    "    )\n",
    "    return response.choices[0].message.content"
   ]
  },
  {
   "cell_type": "code",
   "execution_count": null,
   "metadata": {
    "colab": {
     "base_uri": "https://localhost:8080/"
    },
    "id": "f-oeubJyMjEW",
    "outputId": "10282754-a87f-4366-bd62-abdcaa0c1104"
   },
   "outputs": [],
   "source": [
    "result = get_completion(\"簡介東吳大學\")\n",
    "print(result)"
   ]
  },
  {
   "cell_type": "code",
   "execution_count": null,
   "metadata": {
    "id": "VaXSJZGHUR2i"
   },
   "outputs": [],
   "source": [
    "messages = []"
   ]
  },
  {
   "cell_type": "code",
   "execution_count": null,
   "metadata": {
    "colab": {
     "base_uri": "https://localhost:8080/"
    },
    "id": "jdG0_hVBMjEX",
    "outputId": "27babad8-9bbf-43da-83cf-0f06df459b7d"
   },
   "outputs": [],
   "source": [
    "from flask import Flask, request, abort\n",
    "\n",
    "from linebot.v3 import (\n",
    "    WebhookHandler\n",
    ")\n",
    "from linebot.v3.exceptions import (\n",
    "    InvalidSignatureError\n",
    ")\n",
    "from linebot.v3.messaging import (\n",
    "    Configuration,\n",
    "    ApiClient,\n",
    "    MessagingApi,\n",
    "    ReplyMessageRequest,\n",
    "    TextMessage,\n",
    "    StickerMessage,\n",
    "    LocationMessage\n",
    ")\n",
    "from linebot.v3.webhooks import (\n",
    "    MessageEvent,\n",
    "    TextMessageContent,\n",
    "    StickerMessageContent,\n",
    "    LocationMessageContent\n",
    ")\n",
    "\n",
    "app = Flask(__name__)\n",
    "\n",
    "configuration = Configuration(access_token=line_channel_access_token)\n",
    "handler = WebhookHandler(line_channel_secret)\n",
    "\n",
    "\n",
    "@app.route(\"/\", methods=['POST'])\n",
    "def callback():\n",
    "    # get X-Line-Signature header value\n",
    "    signature = request.headers['X-Line-Signature']\n",
    "\n",
    "    # get request body as text\n",
    "    body = request.get_data(as_text=True)\n",
    "    print(\"BODY: \", body)\n",
    "    app.logger.info(\"Request body: \" + body)\n",
    "\n",
    "    # handle webhook body\n",
    "    try:\n",
    "        handler.handle(body, signature)\n",
    "    except InvalidSignatureError:\n",
    "        app.logger.info(\"Invalid signature. Please check your channel access token/channel secret.\")\n",
    "        abort(400)\n",
    "\n",
    "    return 'OK'\n",
    "\n",
    "\n",
    "@handler.add(MessageEvent, message=TextMessageContent)\n",
    "def handle_message(event):\n",
    "    text = event.message.text\n",
    "    with ApiClient(configuration) as api_client:\n",
    "        line_bot_api = MessagingApi(api_client)\n",
    "        if text.startswith('AI '):\n",
    "            prompt = text[3:]\n",
    "            messages.append(prompt)\n",
    "            prompts = \" \".join(messages)\n",
    "            reply_text = get_completion(prompts)\n",
    "            line_bot_api.reply_message_with_http_info(\n",
    "                ReplyMessageRequest(\n",
    "                    reply_token=event.reply_token,\n",
    "                    messages=[TextMessage(text=reply_text)]\n",
    "                )\n",
    "            )\n",
    "            messages.append(reply_text)\n",
    "        else:\n",
    "            line_bot_api.reply_message_with_http_info(\n",
    "                ReplyMessageRequest(\n",
    "                    reply_token=event.reply_token,\n",
    "                    messages=[TextMessage(text=event.message.text),\n",
    "                        TextMessage(text=event.message.text)]\n",
    "                )\n",
    "            )\n",
    "\n",
    "\n",
    "@handler.add(MessageEvent, message=StickerMessageContent)\n",
    "def handle_sticker_message(event):\n",
    "    with ApiClient(configuration) as api_client:\n",
    "        line_bot_api = MessagingApi(api_client)\n",
    "        line_bot_api.reply_message(\n",
    "            ReplyMessageRequest(\n",
    "                reply_token=event.reply_token,\n",
    "                messages=[StickerMessage(\n",
    "                    package_id=event.message.package_id,\n",
    "                    sticker_id=event.message.sticker_id)\n",
    "                ]\n",
    "            )\n",
    "        )\n",
    "\n",
    "@handler.add(MessageEvent, message=LocationMessageContent)\n",
    "def handle_location_message(event):\n",
    "    with ApiClient(configuration) as api_client:\n",
    "        line_bot_api = MessagingApi(api_client)\n",
    "        line_bot_api.reply_message(\n",
    "            ReplyMessageRequest(\n",
    "                reply_token=event.reply_token,\n",
    "                messages=[LocationMessage(\n",
    "                    title='定位訊息',\n",
    "                    address=event.message.address,\n",
    "                    latitude=event.message.latitude,\n",
    "                    longitude=event.message.longitude\n",
    "                )]\n",
    "            )\n",
    "        )\n",
    "\n",
    "if __name__ == \"__main__\":\n",
    "    app.run(port=port)"
   ]
  }
 ],
 "metadata": {
  "colab": {
   "provenance": []
  },
  "kernelspec": {
   "display_name": "linebot",
   "language": "python",
   "name": "python3"
  },
  "language_info": {
   "codemirror_mode": {
    "name": "ipython",
    "version": 3
   },
   "file_extension": ".py",
   "mimetype": "text/x-python",
   "name": "python",
   "nbconvert_exporter": "python",
   "pygments_lexer": "ipython3",
   "version": "3.12.3"
  }
 },
 "nbformat": 4,
 "nbformat_minor": 0
}
